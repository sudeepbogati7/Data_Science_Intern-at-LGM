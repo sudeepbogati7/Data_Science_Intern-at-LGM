{
  "cells": [
    {
      "cell_type": "markdown",
      "id": "df116ae3",
      "metadata": {
        "id": "df116ae3"
      },
      "source": [
        "# Stock Market Prediction And Forecasting Using LSTM @ Let'sGrowMore\n",
        "\n"
      ]
    },
    {
      "cell_type": "markdown",
      "id": "307dcad5",
      "metadata": {
        "id": "307dcad5"
      },
      "source": [
        "   ##  Importing the important libraries and the datasets"
      ]
    },
    {
      "cell_type": "code",
      "execution_count": 1,
      "id": "65884b2e",
      "metadata": {
        "id": "65884b2e"
      },
      "outputs": [],
      "source": [
        "import numpy as np\n",
        "import pandas as pd\n",
        "import matplotlib.pyplot as plt"
      ]
    },
    {
      "cell_type": "code",
      "execution_count": 2,
      "id": "0fe28d82",
      "metadata": {
        "colab": {
          "base_uri": "https://localhost:8080/",
          "height": 424
        },
        "id": "0fe28d82",
        "outputId": "30c29046-cc98-4d9b-97b3-60e6baab93ed"
      },
      "outputs": [
        {
          "output_type": "execute_result",
          "data": {
            "text/plain": [
              "            Date    Open    High     Low    Last   Close  \\\n",
              "0     2018-09-28  234.05  235.95  230.20  233.50  233.75   \n",
              "1     2018-09-27  234.55  236.80  231.10  233.80  233.25   \n",
              "2     2018-09-26  240.00  240.00  232.50  235.00  234.25   \n",
              "3     2018-09-25  233.30  236.75  232.00  236.25  236.10   \n",
              "4     2018-09-24  233.55  239.20  230.75  234.00  233.30   \n",
              "...          ...     ...     ...     ...     ...     ...   \n",
              "2030  2010-07-27  117.60  119.50  112.00  118.80  118.65   \n",
              "2031  2010-07-26  120.10  121.00  117.10  117.10  117.60   \n",
              "2032  2010-07-23  121.80  121.95  120.25  120.35  120.65   \n",
              "2033  2010-07-22  120.30  122.00  120.25  120.75  120.90   \n",
              "2034  2010-07-21  122.10  123.00  121.05  121.10  121.55   \n",
              "\n",
              "      Total Trade Quantity  Turnover (Lacs)  \n",
              "0                  3069914          7162.35  \n",
              "1                  5082859         11859.95  \n",
              "2                  2240909          5248.60  \n",
              "3                  2349368          5503.90  \n",
              "4                  3423509          7999.55  \n",
              "...                    ...              ...  \n",
              "2030                586100           694.98  \n",
              "2031                658440           780.01  \n",
              "2032                281312           340.31  \n",
              "2033                293312           355.17  \n",
              "2034                658666           803.56  \n",
              "\n",
              "[2035 rows x 8 columns]"
            ],
            "text/html": [
              "\n",
              "  <div id=\"df-026aeb40-2d55-48d9-9702-755b1b7e62d6\" class=\"colab-df-container\">\n",
              "    <div>\n",
              "<style scoped>\n",
              "    .dataframe tbody tr th:only-of-type {\n",
              "        vertical-align: middle;\n",
              "    }\n",
              "\n",
              "    .dataframe tbody tr th {\n",
              "        vertical-align: top;\n",
              "    }\n",
              "\n",
              "    .dataframe thead th {\n",
              "        text-align: right;\n",
              "    }\n",
              "</style>\n",
              "<table border=\"1\" class=\"dataframe\">\n",
              "  <thead>\n",
              "    <tr style=\"text-align: right;\">\n",
              "      <th></th>\n",
              "      <th>Date</th>\n",
              "      <th>Open</th>\n",
              "      <th>High</th>\n",
              "      <th>Low</th>\n",
              "      <th>Last</th>\n",
              "      <th>Close</th>\n",
              "      <th>Total Trade Quantity</th>\n",
              "      <th>Turnover (Lacs)</th>\n",
              "    </tr>\n",
              "  </thead>\n",
              "  <tbody>\n",
              "    <tr>\n",
              "      <th>0</th>\n",
              "      <td>2018-09-28</td>\n",
              "      <td>234.05</td>\n",
              "      <td>235.95</td>\n",
              "      <td>230.20</td>\n",
              "      <td>233.50</td>\n",
              "      <td>233.75</td>\n",
              "      <td>3069914</td>\n",
              "      <td>7162.35</td>\n",
              "    </tr>\n",
              "    <tr>\n",
              "      <th>1</th>\n",
              "      <td>2018-09-27</td>\n",
              "      <td>234.55</td>\n",
              "      <td>236.80</td>\n",
              "      <td>231.10</td>\n",
              "      <td>233.80</td>\n",
              "      <td>233.25</td>\n",
              "      <td>5082859</td>\n",
              "      <td>11859.95</td>\n",
              "    </tr>\n",
              "    <tr>\n",
              "      <th>2</th>\n",
              "      <td>2018-09-26</td>\n",
              "      <td>240.00</td>\n",
              "      <td>240.00</td>\n",
              "      <td>232.50</td>\n",
              "      <td>235.00</td>\n",
              "      <td>234.25</td>\n",
              "      <td>2240909</td>\n",
              "      <td>5248.60</td>\n",
              "    </tr>\n",
              "    <tr>\n",
              "      <th>3</th>\n",
              "      <td>2018-09-25</td>\n",
              "      <td>233.30</td>\n",
              "      <td>236.75</td>\n",
              "      <td>232.00</td>\n",
              "      <td>236.25</td>\n",
              "      <td>236.10</td>\n",
              "      <td>2349368</td>\n",
              "      <td>5503.90</td>\n",
              "    </tr>\n",
              "    <tr>\n",
              "      <th>4</th>\n",
              "      <td>2018-09-24</td>\n",
              "      <td>233.55</td>\n",
              "      <td>239.20</td>\n",
              "      <td>230.75</td>\n",
              "      <td>234.00</td>\n",
              "      <td>233.30</td>\n",
              "      <td>3423509</td>\n",
              "      <td>7999.55</td>\n",
              "    </tr>\n",
              "    <tr>\n",
              "      <th>...</th>\n",
              "      <td>...</td>\n",
              "      <td>...</td>\n",
              "      <td>...</td>\n",
              "      <td>...</td>\n",
              "      <td>...</td>\n",
              "      <td>...</td>\n",
              "      <td>...</td>\n",
              "      <td>...</td>\n",
              "    </tr>\n",
              "    <tr>\n",
              "      <th>2030</th>\n",
              "      <td>2010-07-27</td>\n",
              "      <td>117.60</td>\n",
              "      <td>119.50</td>\n",
              "      <td>112.00</td>\n",
              "      <td>118.80</td>\n",
              "      <td>118.65</td>\n",
              "      <td>586100</td>\n",
              "      <td>694.98</td>\n",
              "    </tr>\n",
              "    <tr>\n",
              "      <th>2031</th>\n",
              "      <td>2010-07-26</td>\n",
              "      <td>120.10</td>\n",
              "      <td>121.00</td>\n",
              "      <td>117.10</td>\n",
              "      <td>117.10</td>\n",
              "      <td>117.60</td>\n",
              "      <td>658440</td>\n",
              "      <td>780.01</td>\n",
              "    </tr>\n",
              "    <tr>\n",
              "      <th>2032</th>\n",
              "      <td>2010-07-23</td>\n",
              "      <td>121.80</td>\n",
              "      <td>121.95</td>\n",
              "      <td>120.25</td>\n",
              "      <td>120.35</td>\n",
              "      <td>120.65</td>\n",
              "      <td>281312</td>\n",
              "      <td>340.31</td>\n",
              "    </tr>\n",
              "    <tr>\n",
              "      <th>2033</th>\n",
              "      <td>2010-07-22</td>\n",
              "      <td>120.30</td>\n",
              "      <td>122.00</td>\n",
              "      <td>120.25</td>\n",
              "      <td>120.75</td>\n",
              "      <td>120.90</td>\n",
              "      <td>293312</td>\n",
              "      <td>355.17</td>\n",
              "    </tr>\n",
              "    <tr>\n",
              "      <th>2034</th>\n",
              "      <td>2010-07-21</td>\n",
              "      <td>122.10</td>\n",
              "      <td>123.00</td>\n",
              "      <td>121.05</td>\n",
              "      <td>121.10</td>\n",
              "      <td>121.55</td>\n",
              "      <td>658666</td>\n",
              "      <td>803.56</td>\n",
              "    </tr>\n",
              "  </tbody>\n",
              "</table>\n",
              "<p>2035 rows × 8 columns</p>\n",
              "</div>\n",
              "    <div class=\"colab-df-buttons\">\n",
              "\n",
              "  <div class=\"colab-df-container\">\n",
              "    <button class=\"colab-df-convert\" onclick=\"convertToInteractive('df-026aeb40-2d55-48d9-9702-755b1b7e62d6')\"\n",
              "            title=\"Convert this dataframe to an interactive table.\"\n",
              "            style=\"display:none;\">\n",
              "\n",
              "  <svg xmlns=\"http://www.w3.org/2000/svg\" height=\"24px\" viewBox=\"0 -960 960 960\">\n",
              "    <path d=\"M120-120v-720h720v720H120Zm60-500h600v-160H180v160Zm220 220h160v-160H400v160Zm0 220h160v-160H400v160ZM180-400h160v-160H180v160Zm440 0h160v-160H620v160ZM180-180h160v-160H180v160Zm440 0h160v-160H620v160Z\"/>\n",
              "  </svg>\n",
              "    </button>\n",
              "\n",
              "  <style>\n",
              "    .colab-df-container {\n",
              "      display:flex;\n",
              "      gap: 12px;\n",
              "    }\n",
              "\n",
              "    .colab-df-convert {\n",
              "      background-color: #E8F0FE;\n",
              "      border: none;\n",
              "      border-radius: 50%;\n",
              "      cursor: pointer;\n",
              "      display: none;\n",
              "      fill: #1967D2;\n",
              "      height: 32px;\n",
              "      padding: 0 0 0 0;\n",
              "      width: 32px;\n",
              "    }\n",
              "\n",
              "    .colab-df-convert:hover {\n",
              "      background-color: #E2EBFA;\n",
              "      box-shadow: 0px 1px 2px rgba(60, 64, 67, 0.3), 0px 1px 3px 1px rgba(60, 64, 67, 0.15);\n",
              "      fill: #174EA6;\n",
              "    }\n",
              "\n",
              "    .colab-df-buttons div {\n",
              "      margin-bottom: 4px;\n",
              "    }\n",
              "\n",
              "    [theme=dark] .colab-df-convert {\n",
              "      background-color: #3B4455;\n",
              "      fill: #D2E3FC;\n",
              "    }\n",
              "\n",
              "    [theme=dark] .colab-df-convert:hover {\n",
              "      background-color: #434B5C;\n",
              "      box-shadow: 0px 1px 3px 1px rgba(0, 0, 0, 0.15);\n",
              "      filter: drop-shadow(0px 1px 2px rgba(0, 0, 0, 0.3));\n",
              "      fill: #FFFFFF;\n",
              "    }\n",
              "  </style>\n",
              "\n",
              "    <script>\n",
              "      const buttonEl =\n",
              "        document.querySelector('#df-026aeb40-2d55-48d9-9702-755b1b7e62d6 button.colab-df-convert');\n",
              "      buttonEl.style.display =\n",
              "        google.colab.kernel.accessAllowed ? 'block' : 'none';\n",
              "\n",
              "      async function convertToInteractive(key) {\n",
              "        const element = document.querySelector('#df-026aeb40-2d55-48d9-9702-755b1b7e62d6');\n",
              "        const dataTable =\n",
              "          await google.colab.kernel.invokeFunction('convertToInteractive',\n",
              "                                                    [key], {});\n",
              "        if (!dataTable) return;\n",
              "\n",
              "        const docLinkHtml = 'Like what you see? Visit the ' +\n",
              "          '<a target=\"_blank\" href=https://colab.research.google.com/notebooks/data_table.ipynb>data table notebook</a>'\n",
              "          + ' to learn more about interactive tables.';\n",
              "        element.innerHTML = '';\n",
              "        dataTable['output_type'] = 'display_data';\n",
              "        await google.colab.output.renderOutput(dataTable, element);\n",
              "        const docLink = document.createElement('div');\n",
              "        docLink.innerHTML = docLinkHtml;\n",
              "        element.appendChild(docLink);\n",
              "      }\n",
              "    </script>\n",
              "  </div>\n",
              "\n",
              "\n",
              "<div id=\"df-8ecebc38-4f59-4a38-a175-18f9cbf7551e\">\n",
              "  <button class=\"colab-df-quickchart\" onclick=\"quickchart('df-8ecebc38-4f59-4a38-a175-18f9cbf7551e')\"\n",
              "            title=\"Suggest charts.\"\n",
              "            style=\"display:none;\">\n",
              "\n",
              "<svg xmlns=\"http://www.w3.org/2000/svg\" height=\"24px\"viewBox=\"0 0 24 24\"\n",
              "     width=\"24px\">\n",
              "    <g>\n",
              "        <path d=\"M19 3H5c-1.1 0-2 .9-2 2v14c0 1.1.9 2 2 2h14c1.1 0 2-.9 2-2V5c0-1.1-.9-2-2-2zM9 17H7v-7h2v7zm4 0h-2V7h2v10zm4 0h-2v-4h2v4z\"/>\n",
              "    </g>\n",
              "</svg>\n",
              "  </button>\n",
              "\n",
              "<style>\n",
              "  .colab-df-quickchart {\n",
              "      --bg-color: #E8F0FE;\n",
              "      --fill-color: #1967D2;\n",
              "      --hover-bg-color: #E2EBFA;\n",
              "      --hover-fill-color: #174EA6;\n",
              "      --disabled-fill-color: #AAA;\n",
              "      --disabled-bg-color: #DDD;\n",
              "  }\n",
              "\n",
              "  [theme=dark] .colab-df-quickchart {\n",
              "      --bg-color: #3B4455;\n",
              "      --fill-color: #D2E3FC;\n",
              "      --hover-bg-color: #434B5C;\n",
              "      --hover-fill-color: #FFFFFF;\n",
              "      --disabled-bg-color: #3B4455;\n",
              "      --disabled-fill-color: #666;\n",
              "  }\n",
              "\n",
              "  .colab-df-quickchart {\n",
              "    background-color: var(--bg-color);\n",
              "    border: none;\n",
              "    border-radius: 50%;\n",
              "    cursor: pointer;\n",
              "    display: none;\n",
              "    fill: var(--fill-color);\n",
              "    height: 32px;\n",
              "    padding: 0;\n",
              "    width: 32px;\n",
              "  }\n",
              "\n",
              "  .colab-df-quickchart:hover {\n",
              "    background-color: var(--hover-bg-color);\n",
              "    box-shadow: 0 1px 2px rgba(60, 64, 67, 0.3), 0 1px 3px 1px rgba(60, 64, 67, 0.15);\n",
              "    fill: var(--button-hover-fill-color);\n",
              "  }\n",
              "\n",
              "  .colab-df-quickchart-complete:disabled,\n",
              "  .colab-df-quickchart-complete:disabled:hover {\n",
              "    background-color: var(--disabled-bg-color);\n",
              "    fill: var(--disabled-fill-color);\n",
              "    box-shadow: none;\n",
              "  }\n",
              "\n",
              "  .colab-df-spinner {\n",
              "    border: 2px solid var(--fill-color);\n",
              "    border-color: transparent;\n",
              "    border-bottom-color: var(--fill-color);\n",
              "    animation:\n",
              "      spin 1s steps(1) infinite;\n",
              "  }\n",
              "\n",
              "  @keyframes spin {\n",
              "    0% {\n",
              "      border-color: transparent;\n",
              "      border-bottom-color: var(--fill-color);\n",
              "      border-left-color: var(--fill-color);\n",
              "    }\n",
              "    20% {\n",
              "      border-color: transparent;\n",
              "      border-left-color: var(--fill-color);\n",
              "      border-top-color: var(--fill-color);\n",
              "    }\n",
              "    30% {\n",
              "      border-color: transparent;\n",
              "      border-left-color: var(--fill-color);\n",
              "      border-top-color: var(--fill-color);\n",
              "      border-right-color: var(--fill-color);\n",
              "    }\n",
              "    40% {\n",
              "      border-color: transparent;\n",
              "      border-right-color: var(--fill-color);\n",
              "      border-top-color: var(--fill-color);\n",
              "    }\n",
              "    60% {\n",
              "      border-color: transparent;\n",
              "      border-right-color: var(--fill-color);\n",
              "    }\n",
              "    80% {\n",
              "      border-color: transparent;\n",
              "      border-right-color: var(--fill-color);\n",
              "      border-bottom-color: var(--fill-color);\n",
              "    }\n",
              "    90% {\n",
              "      border-color: transparent;\n",
              "      border-bottom-color: var(--fill-color);\n",
              "    }\n",
              "  }\n",
              "</style>\n",
              "\n",
              "  <script>\n",
              "    async function quickchart(key) {\n",
              "      const quickchartButtonEl =\n",
              "        document.querySelector('#' + key + ' button');\n",
              "      quickchartButtonEl.disabled = true;  // To prevent multiple clicks.\n",
              "      quickchartButtonEl.classList.add('colab-df-spinner');\n",
              "      try {\n",
              "        const charts = await google.colab.kernel.invokeFunction(\n",
              "            'suggestCharts', [key], {});\n",
              "      } catch (error) {\n",
              "        console.error('Error during call to suggestCharts:', error);\n",
              "      }\n",
              "      quickchartButtonEl.classList.remove('colab-df-spinner');\n",
              "      quickchartButtonEl.classList.add('colab-df-quickchart-complete');\n",
              "    }\n",
              "    (() => {\n",
              "      let quickchartButtonEl =\n",
              "        document.querySelector('#df-8ecebc38-4f59-4a38-a175-18f9cbf7551e button');\n",
              "      quickchartButtonEl.style.display =\n",
              "        google.colab.kernel.accessAllowed ? 'block' : 'none';\n",
              "    })();\n",
              "  </script>\n",
              "</div>\n",
              "    </div>\n",
              "  </div>\n"
            ]
          },
          "metadata": {},
          "execution_count": 2
        }
      ],
      "source": [
        "stock_dataset = pd.read_csv(\"https://raw.githubusercontent.com/mwitiderrick/stockprice/master/NSE-TATAGLOBAL.csv\")\n",
        "stock_dataset"
      ]
    },
    {
      "cell_type": "markdown",
      "id": "21fab7e9",
      "metadata": {
        "id": "21fab7e9"
      },
      "source": [
        "### Exploring Datasets"
      ]
    },
    {
      "cell_type": "code",
      "execution_count": 3,
      "id": "5db151b0",
      "metadata": {
        "colab": {
          "base_uri": "https://localhost:8080/"
        },
        "id": "5db151b0",
        "outputId": "b1058dff-9164-41ed-cde1-18de9773262e"
      },
      "outputs": [
        {
          "output_type": "execute_result",
          "data": {
            "text/plain": [
              "Date                    0\n",
              "Open                    0\n",
              "High                    0\n",
              "Low                     0\n",
              "Last                    0\n",
              "Close                   0\n",
              "Total Trade Quantity    0\n",
              "Turnover (Lacs)         0\n",
              "dtype: int64"
            ]
          },
          "metadata": {},
          "execution_count": 3
        }
      ],
      "source": [
        "stock_dataset.isnull().sum()"
      ]
    },
    {
      "cell_type": "code",
      "execution_count": 5,
      "id": "2d0a21b4",
      "metadata": {
        "colab": {
          "base_uri": "https://localhost:8080/"
        },
        "id": "2d0a21b4",
        "outputId": "74e18845-4c33-444b-90a7-d77013652959"
      },
      "outputs": [
        {
          "output_type": "execute_result",
          "data": {
            "text/plain": [
              "2034    2010-07-21\n",
              "2033    2010-07-22\n",
              "2032    2010-07-23\n",
              "2031    2010-07-26\n",
              "2030    2010-07-27\n",
              "Name: Date, dtype: object"
            ]
          },
          "metadata": {},
          "execution_count": 5
        }
      ],
      "source": [
        "#acesding order of the Date to get perfect insights of data\n",
        "stock_dataset.sort_values(by=[\"Date\"], inplace=True, ascending=True)\n",
        "stock_dataset.Date.head()"
      ]
    },
    {
      "cell_type": "markdown",
      "id": "c2ed2bdf",
      "metadata": {
        "id": "c2ed2bdf"
      },
      "source": [
        "We can see that there is no null data so we can go forward with preprocesssing"
      ]
    },
    {
      "cell_type": "markdown",
      "id": "ae77048a",
      "metadata": {
        "id": "ae77048a"
      },
      "source": [
        "Plotting the Open and Close price using according to date."
      ]
    },
    {
      "cell_type": "code",
      "execution_count": 6,
      "id": "e18c2584",
      "metadata": {
        "colab": {
          "base_uri": "https://localhost:8080/",
          "height": 447
        },
        "id": "e18c2584",
        "outputId": "146e1a27-d159-4ec7-f72b-a5a191b4bd87"
      },
      "outputs": [
        {
          "output_type": "execute_result",
          "data": {
            "text/plain": [
              "[<matplotlib.lines.Line2D at 0x7cd8952e4fd0>]"
            ]
          },
          "metadata": {},
          "execution_count": 6
        },
        {
          "output_type": "display_data",
          "data": {
            "text/plain": [
              "<Figure size 640x480 with 1 Axes>"
            ],
            "image/png": "[encoded data removed]"
          },
          "metadata": {}
        }
      ],
      "source": [
        "newdate = stock_dataset[\"Date\"]\n",
        "newdate\n",
        "newopen = stock_dataset[\"Open\"]\n",
        "newdate\n",
        "plt.plot(newdate,newopen)\n"
      ]
    },
    {
      "cell_type": "code",
      "execution_count": 7,
      "id": "d95200a1",
      "metadata": {
        "colab": {
          "base_uri": "https://localhost:8080/",
          "height": 447
        },
        "id": "d95200a1",
        "outputId": "3b8f3ec2-a39b-4b6e-9543-e2387ff6c543"
      },
      "outputs": [
        {
          "output_type": "execute_result",
          "data": {
            "text/plain": [
              "[<matplotlib.lines.Line2D at 0x7cd8919f9a80>]"
            ]
          },
          "metadata": {},
          "execution_count": 7
        },
        {
          "output_type": "display_data",
          "data": {
            "text/plain": [
              "<Figure size 640x480 with 1 Axes>"
            ],
            "image/png": "[encoded data removed]"
          },
          "metadata": {}
        }
      ],
      "source": [
        "newdate = stock_dataset[\"Date\"]\n",
        "newdate\n",
        "newclose = stock_dataset[\"Close\"]\n",
        "newdate\n",
        "plt.plot(newdate,newclose)"
      ]
    },
    {
      "cell_type": "markdown",
      "id": "257aea92",
      "metadata": {
        "id": "257aea92"
      },
      "source": [
        "## Feature Scaling: Since big numbers increases the computational complexity. We are going to Normalize it from 0 to 1.\n",
        "\n",
        "Though it's always not a good choice to do Normalize data which don't have the fix upper or lower limit like in stock markt.\n",
        "But we do here for learning"
      ]
    },
    {
      "cell_type": "code",
      "execution_count": 8,
      "id": "d6f2a769",
      "metadata": {
        "colab": {
          "base_uri": "https://localhost:8080/"
        },
        "id": "d6f2a769",
        "outputId": "87ce20b3-4743-4739-9704-6071bb1006e7"
      },
      "outputs": [
        {
          "output_type": "execute_result",
          "data": {
            "text/plain": [
              "(2035, 1)"
            ]
          },
          "metadata": {},
          "execution_count": 8
        }
      ],
      "source": [
        "from sklearn.preprocessing import MinMaxScaler\n",
        "\n",
        "scaler = MinMaxScaler(feature_range = (0,1))\n",
        "\n",
        "\n",
        "#Because we are going to make prediction on th basis of closing price\n",
        "close_price = stock_dataset[\"Close\"]\n",
        "\n",
        "close_price = np.array(close_price).reshape(-1 , 1)\n",
        "\n",
        "\n",
        "transformed_closed_value =  scaler.fit_transform(close_price)\n",
        "\n",
        "df = transformed_closed_value\n",
        "\n",
        "df.shape"
      ]
    },
    {
      "cell_type": "markdown",
      "id": "47aa3de2",
      "metadata": {
        "id": "47aa3de2"
      },
      "source": [
        "##Splitting Datasets for training and testing"
      ]
    },
    {
      "cell_type": "markdown",
      "id": "15a53b61",
      "metadata": {
        "id": "15a53b61"
      },
      "source": [
        "Let's use 60% of data for the trainin and remainin for the testing"
      ]
    },
    {
      "cell_type": "code",
      "execution_count": 9,
      "id": "56e8b062",
      "metadata": {
        "id": "56e8b062"
      },
      "outputs": [],
      "source": [
        "training_data_length = int(0.6 * len(df))\n",
        "testing_data_length  = int(len(df) - training_data_length)"
      ]
    },
    {
      "cell_type": "code",
      "execution_count": 10,
      "id": "eab09226",
      "metadata": {
        "id": "eab09226"
      },
      "outputs": [],
      "source": [
        "training_data = df[:training_data_length]\n",
        "testing_data  = df[training_data_length:]"
      ]
    },
    {
      "cell_type": "code",
      "execution_count": 11,
      "id": "27e3fb35",
      "metadata": {
        "colab": {
          "base_uri": "https://localhost:8080/"
        },
        "id": "27e3fb35",
        "outputId": "a094c1aa-6daa-4962-dd21-e96554a83bbe"
      },
      "outputs": [
        {
          "output_type": "stream",
          "name": "stdout",
          "text": [
            "size of training data is 1221 and testing data is 814 \n"
          ]
        },
        {
          "output_type": "execute_result",
          "data": {
            "text/plain": [
              "2035"
            ]
          },
          "metadata": {},
          "execution_count": 11
        }
      ],
      "source": [
        "print(f\"size of training data is {len(training_data)} and testing data is {len(testing_data)} \")\n",
        "\n",
        "1221+814\n"
      ]
    },
    {
      "cell_type": "markdown",
      "id": "3374479e",
      "metadata": {
        "id": "3374479e"
      },
      "source": [
        "#### For this LSTM we are using previous closing price as the input of the data and using n number of previous price 'X' we\n",
        "#### give out put to n + 1 closing price as the 'Y' of the data"
      ]
    },
    {
      "cell_type": "code",
      "execution_count": 12,
      "id": "cae52f9d",
      "metadata": {
        "id": "cae52f9d"
      },
      "outputs": [],
      "source": [
        "def create_dataset(dataset , n_dataset_length):\n",
        "    X =[]\n",
        "    Y =[]\n",
        "    for i in range(len(dataset) - n_dataset_length - 1):\n",
        "        X.append(dataset[i:i + n_dataset_length , 0])\n",
        "        Y.append(dataset[i + n_dataset_length , 0])\n",
        "    return np.array(X) , np.array(Y)"
      ]
    },
    {
      "cell_type": "code",
      "execution_count": 13,
      "id": "d409adf8",
      "metadata": {
        "id": "d409adf8"
      },
      "outputs": [],
      "source": [
        "n_dataset_length = 50\n",
        "\n",
        "X_training , Y_training = create_dataset(training_data , n_dataset_length)\n",
        "X_testing , Y_testing   = create_dataset(testing_data , n_dataset_length)"
      ]
    },
    {
      "cell_type": "markdown",
      "id": "8f54e5c7",
      "metadata": {
        "id": "8f54e5c7"
      },
      "source": []
    },
    {
      "cell_type": "code",
      "execution_count": 14,
      "id": "e32d512d",
      "metadata": {
        "colab": {
          "base_uri": "https://localhost:8080/"
        },
        "id": "e32d512d",
        "outputId": "a247b831-7b9c-459e-f55f-2a27de5b4ac5"
      },
      "outputs": [
        {
          "output_type": "stream",
          "name": "stdout",
          "text": [
            "(1170, 50)\n",
            "(763, 50)\n",
            "(1170,)\n",
            "(763,)\n"
          ]
        },
        {
          "output_type": "execute_result",
          "data": {
            "text/plain": [
              "(None, None, None, None)"
            ]
          },
          "metadata": {},
          "execution_count": 14
        }
      ],
      "source": [
        "print(X_training.shape) , print(X_testing.shape) , print(Y_training.shape) , print(Y_testing.shape)"
      ]
    },
    {
      "cell_type": "code",
      "execution_count": 15,
      "id": "8848313b",
      "metadata": {
        "id": "8848313b"
      },
      "outputs": [],
      "source": [
        "#reshaping in the 3d\n",
        "\n",
        "X_training = X_training.reshape(X_training.shape[0] , X_training.shape[1] , 1)\n",
        "X_testing  = X_testing.reshape(X_testing.shape[0] , X_testing.shape[1] , 1)"
      ]
    },
    {
      "cell_type": "code",
      "execution_count": 16,
      "id": "80dc4cad",
      "metadata": {
        "id": "80dc4cad"
      },
      "outputs": [],
      "source": [
        "\n",
        "from tensorflow.keras.models import Sequential\n",
        "from tensorflow.keras.layers import Dense\n",
        "from tensorflow.keras.layers import LSTM\n",
        "\n",
        "mdl = Sequential()\n",
        "\n",
        "# Optionally, the first layer can receive an `input_shape` argument\n",
        "mdl.add(LSTM(50, return_sequences=True, input_shape=(50, 1)))\n",
        "\n",
        "#inner layer\n",
        "mdl.add(LSTM(50, return_sequences=True))\n",
        "mdl.add(LSTM(50))\n",
        "\n",
        "#output layer\n",
        "mdl.add(Dense(1))\n",
        "\n",
        "mdl.compile(loss='mean_squared_error', optimizer='adam')"
      ]
    },
    {
      "cell_type": "code",
      "execution_count": 17,
      "id": "d2854b89",
      "metadata": {
        "colab": {
          "base_uri": "https://localhost:8080/"
        },
        "id": "d2854b89",
        "outputId": "63a48aab-f08e-4c77-9d25-e707c74d4582"
      },
      "outputs": [
        {
          "output_type": "stream",
          "name": "stdout",
          "text": [
            "Model: \"sequential\"\n",
            "_________________________________________________________________\n",
            " Layer (type)                Output Shape              Param #   \n",
            "=================================================================\n",
            " lstm (LSTM)                 (None, 50, 50)            10400     \n",
            "                                                                 \n",
            " lstm_1 (LSTM)               (None, 50, 50)            20200     \n",
            "                                                                 \n",
            " lstm_2 (LSTM)               (None, 50)                20200     \n",
            "                                                                 \n",
            " dense (Dense)               (None, 1)                 51        \n",
            "                                                                 \n",
            "=================================================================\n",
            "Total params: 50851 (198.64 KB)\n",
            "Trainable params: 50851 (198.64 KB)\n",
            "Non-trainable params: 0 (0.00 Byte)\n",
            "_________________________________________________________________\n"
          ]
        }
      ],
      "source": [
        "mdl.summary()"
      ]
    },
    {
      "cell_type": "code",
      "execution_count": 18,
      "id": "8d116121",
      "metadata": {
        "colab": {
          "base_uri": "https://localhost:8080/"
        },
        "id": "8d116121",
        "outputId": "1174e3c2-8ecd-43b5-c879-c53436c35b1c"
      },
      "outputs": [
        {
          "output_type": "stream",
          "name": "stdout",
          "text": [
            "Epoch 1/100\n",
            "19/19 [==============================] - 11s 193ms/step - loss: 0.0137 - val_loss: 0.0412\n",
            "Epoch 2/100\n",
            "19/19 [==============================] - 2s 129ms/step - loss: 0.0026 - val_loss: 0.0094\n",
            "Epoch 3/100\n",
            "19/19 [==============================] - 3s 181ms/step - loss: 9.6988e-04 - val_loss: 0.0026\n",
            "Epoch 4/100\n",
            "19/19 [==============================] - 2s 123ms/step - loss: 8.4408e-04 - val_loss: 0.0027\n",
            "Epoch 5/100\n",
            "19/19 [==============================] - 3s 133ms/step - loss: 8.0433e-04 - val_loss: 0.0026\n",
            "Epoch 6/100\n",
            "19/19 [==============================] - 2s 117ms/step - loss: 7.9410e-04 - val_loss: 0.0024\n",
            "Epoch 7/100\n",
            "19/19 [==============================] - 2s 107ms/step - loss: 7.8553e-04 - val_loss: 0.0020\n",
            "Epoch 8/100\n",
            "19/19 [==============================] - 3s 158ms/step - loss: 8.0204e-04 - val_loss: 0.0034\n",
            "Epoch 9/100\n",
            "19/19 [==============================] - 2s 124ms/step - loss: 7.4586e-04 - val_loss: 0.0025\n",
            "Epoch 10/100\n",
            "19/19 [==============================] - 2s 109ms/step - loss: 7.2002e-04 - val_loss: 0.0024\n",
            "Epoch 11/100\n",
            "19/19 [==============================] - 2s 115ms/step - loss: 6.8456e-04 - val_loss: 0.0032\n",
            "Epoch 12/100\n",
            "19/19 [==============================] - 2s 124ms/step - loss: 6.7710e-04 - val_loss: 0.0023\n",
            "Epoch 13/100\n",
            "19/19 [==============================] - 2s 126ms/step - loss: 6.6447e-04 - val_loss: 0.0017\n",
            "Epoch 14/100\n",
            "19/19 [==============================] - 3s 170ms/step - loss: 6.4350e-04 - val_loss: 0.0021\n",
            "Epoch 15/100\n",
            "19/19 [==============================] - 2s 107ms/step - loss: 6.1946e-04 - val_loss: 0.0023\n",
            "Epoch 16/100\n",
            "19/19 [==============================] - 2s 108ms/step - loss: 6.5182e-04 - val_loss: 0.0030\n",
            "Epoch 17/100\n",
            "19/19 [==============================] - 2s 109ms/step - loss: 6.0662e-04 - val_loss: 0.0016\n",
            "Epoch 18/100\n",
            "19/19 [==============================] - 2s 108ms/step - loss: 6.3251e-04 - val_loss: 0.0022\n",
            "Epoch 19/100\n",
            "19/19 [==============================] - 3s 148ms/step - loss: 5.6249e-04 - val_loss: 0.0022\n",
            "Epoch 20/100\n",
            "19/19 [==============================] - 3s 135ms/step - loss: 5.7574e-04 - val_loss: 0.0028\n",
            "Epoch 21/100\n",
            "19/19 [==============================] - 2s 134ms/step - loss: 5.4001e-04 - val_loss: 0.0038\n",
            "Epoch 22/100\n",
            "19/19 [==============================] - 2s 117ms/step - loss: 6.1978e-04 - val_loss: 0.0021\n",
            "Epoch 23/100\n",
            "19/19 [==============================] - 2s 117ms/step - loss: 5.1863e-04 - val_loss: 0.0025\n",
            "Epoch 24/100\n",
            "19/19 [==============================] - 2s 128ms/step - loss: 4.9100e-04 - val_loss: 0.0028\n",
            "Epoch 25/100\n",
            "19/19 [==============================] - 3s 159ms/step - loss: 5.1826e-04 - val_loss: 0.0028\n",
            "Epoch 26/100\n",
            "19/19 [==============================] - 2s 112ms/step - loss: 4.7871e-04 - val_loss: 0.0031\n",
            "Epoch 27/100\n",
            "19/19 [==============================] - 2s 109ms/step - loss: 4.4574e-04 - val_loss: 0.0030\n",
            "Epoch 28/100\n",
            "19/19 [==============================] - 2s 107ms/step - loss: 4.1687e-04 - val_loss: 0.0045\n",
            "Epoch 29/100\n",
            "19/19 [==============================] - 2s 106ms/step - loss: 4.0151e-04 - val_loss: 0.0032\n",
            "Epoch 30/100\n",
            "19/19 [==============================] - 3s 158ms/step - loss: 4.0878e-04 - val_loss: 0.0028\n",
            "Epoch 31/100\n",
            "19/19 [==============================] - 3s 148ms/step - loss: 3.7596e-04 - val_loss: 0.0025\n",
            "Epoch 32/100\n",
            "19/19 [==============================] - 3s 141ms/step - loss: 3.5199e-04 - val_loss: 0.0027\n",
            "Epoch 33/100\n",
            "19/19 [==============================] - 3s 137ms/step - loss: 3.3358e-04 - val_loss: 0.0024\n",
            "Epoch 34/100\n",
            "19/19 [==============================] - 2s 113ms/step - loss: 3.2234e-04 - val_loss: 0.0024\n",
            "Epoch 35/100\n",
            "19/19 [==============================] - 3s 167ms/step - loss: 3.3047e-04 - val_loss: 0.0015\n",
            "Epoch 36/100\n",
            "19/19 [==============================] - 2s 116ms/step - loss: 3.1045e-04 - val_loss: 0.0028\n",
            "Epoch 37/100\n",
            "19/19 [==============================] - 2s 106ms/step - loss: 3.2115e-04 - val_loss: 0.0027\n",
            "Epoch 38/100\n",
            "19/19 [==============================] - 2s 112ms/step - loss: 2.8168e-04 - val_loss: 0.0012\n",
            "Epoch 39/100\n",
            "19/19 [==============================] - 2s 113ms/step - loss: 2.7787e-04 - val_loss: 0.0022\n",
            "Epoch 40/100\n",
            "19/19 [==============================] - 2s 108ms/step - loss: 2.6067e-04 - val_loss: 0.0011\n",
            "Epoch 41/100\n",
            "19/19 [==============================] - 4s 190ms/step - loss: 2.9648e-04 - val_loss: 0.0020\n",
            "Epoch 42/100\n",
            "19/19 [==============================] - 2s 116ms/step - loss: 2.5117e-04 - val_loss: 0.0015\n",
            "Epoch 43/100\n",
            "19/19 [==============================] - 2s 114ms/step - loss: 2.4079e-04 - val_loss: 0.0018\n",
            "Epoch 44/100\n",
            "19/19 [==============================] - 2s 114ms/step - loss: 2.4527e-04 - val_loss: 0.0013\n",
            "Epoch 45/100\n",
            "19/19 [==============================] - 2s 110ms/step - loss: 2.3656e-04 - val_loss: 6.6060e-04\n",
            "Epoch 46/100\n",
            "19/19 [==============================] - 3s 153ms/step - loss: 2.6197e-04 - val_loss: 0.0015\n",
            "Epoch 47/100\n",
            "19/19 [==============================] - 3s 139ms/step - loss: 2.3033e-04 - val_loss: 0.0014\n",
            "Epoch 48/100\n",
            "19/19 [==============================] - 3s 136ms/step - loss: 2.1314e-04 - val_loss: 0.0014\n",
            "Epoch 49/100\n",
            "19/19 [==============================] - 2s 118ms/step - loss: 2.1145e-04 - val_loss: 0.0016\n",
            "Epoch 50/100\n",
            "19/19 [==============================] - 2s 109ms/step - loss: 2.2599e-04 - val_loss: 0.0010\n",
            "Epoch 51/100\n",
            "19/19 [==============================] - 3s 136ms/step - loss: 2.0959e-04 - val_loss: 0.0021\n",
            "Epoch 52/100\n",
            "19/19 [==============================] - 3s 143ms/step - loss: 2.0577e-04 - val_loss: 0.0012\n",
            "Epoch 53/100\n",
            "19/19 [==============================] - 2s 110ms/step - loss: 1.8722e-04 - val_loss: 0.0013\n",
            "Epoch 54/100\n",
            "19/19 [==============================] - 2s 111ms/step - loss: 2.0409e-04 - val_loss: 9.9453e-04\n",
            "Epoch 55/100\n",
            "19/19 [==============================] - 2s 112ms/step - loss: 1.9206e-04 - val_loss: 9.2459e-04\n",
            "Epoch 56/100\n",
            "19/19 [==============================] - 2s 127ms/step - loss: 1.7503e-04 - val_loss: 0.0013\n",
            "Epoch 57/100\n",
            "19/19 [==============================] - 3s 181ms/step - loss: 1.7587e-04 - val_loss: 0.0012\n",
            "Epoch 58/100\n",
            "19/19 [==============================] - 2s 110ms/step - loss: 1.7277e-04 - val_loss: 0.0010\n",
            "Epoch 59/100\n",
            "19/19 [==============================] - 2s 123ms/step - loss: 1.7059e-04 - val_loss: 0.0010\n",
            "Epoch 60/100\n",
            "19/19 [==============================] - 2s 117ms/step - loss: 1.6972e-04 - val_loss: 9.8377e-04\n",
            "Epoch 61/100\n",
            "19/19 [==============================] - 2s 109ms/step - loss: 1.7855e-04 - val_loss: 0.0013\n",
            "Epoch 62/100\n",
            "19/19 [==============================] - 2s 133ms/step - loss: 1.6422e-04 - val_loss: 0.0011\n",
            "Epoch 63/100\n",
            "19/19 [==============================] - 3s 147ms/step - loss: 1.5921e-04 - val_loss: 9.0064e-04\n",
            "Epoch 64/100\n",
            "19/19 [==============================] - 2s 111ms/step - loss: 1.6773e-04 - val_loss: 9.3653e-04\n",
            "Epoch 65/100\n",
            "19/19 [==============================] - 2s 125ms/step - loss: 1.5349e-04 - val_loss: 8.7773e-04\n",
            "Epoch 66/100\n",
            "19/19 [==============================] - 2s 112ms/step - loss: 1.5107e-04 - val_loss: 0.0015\n",
            "Epoch 67/100\n",
            "19/19 [==============================] - 2s 108ms/step - loss: 2.0403e-04 - val_loss: 0.0012\n",
            "Epoch 68/100\n",
            "19/19 [==============================] - 3s 176ms/step - loss: 1.6899e-04 - val_loss: 0.0013\n",
            "Epoch 69/100\n",
            "19/19 [==============================] - 2s 111ms/step - loss: 1.7316e-04 - val_loss: 0.0012\n",
            "Epoch 70/100\n",
            "19/19 [==============================] - 2s 110ms/step - loss: 1.5246e-04 - val_loss: 5.3320e-04\n",
            "Epoch 71/100\n",
            "19/19 [==============================] - 2s 109ms/step - loss: 1.5910e-04 - val_loss: 6.1336e-04\n",
            "Epoch 72/100\n",
            "19/19 [==============================] - 2s 119ms/step - loss: 1.6357e-04 - val_loss: 0.0011\n",
            "Epoch 73/100\n",
            "19/19 [==============================] - 3s 136ms/step - loss: 1.4080e-04 - val_loss: 8.4646e-04\n",
            "Epoch 74/100\n",
            "19/19 [==============================] - 3s 169ms/step - loss: 1.3931e-04 - val_loss: 0.0011\n",
            "Epoch 75/100\n",
            "19/19 [==============================] - 2s 108ms/step - loss: 1.6164e-04 - val_loss: 8.3688e-04\n",
            "Epoch 76/100\n",
            "19/19 [==============================] - 2s 108ms/step - loss: 1.3635e-04 - val_loss: 6.8115e-04\n",
            "Epoch 77/100\n",
            "19/19 [==============================] - 2s 117ms/step - loss: 1.4020e-04 - val_loss: 7.0024e-04\n",
            "Epoch 78/100\n",
            "19/19 [==============================] - 2s 129ms/step - loss: 1.3850e-04 - val_loss: 6.9100e-04\n",
            "Epoch 79/100\n",
            "19/19 [==============================] - 4s 193ms/step - loss: 1.3583e-04 - val_loss: 0.0011\n",
            "Epoch 80/100\n",
            "19/19 [==============================] - 3s 134ms/step - loss: 1.3413e-04 - val_loss: 0.0012\n",
            "Epoch 81/100\n",
            "19/19 [==============================] - 2s 122ms/step - loss: 1.6875e-04 - val_loss: 0.0012\n",
            "Epoch 82/100\n",
            "19/19 [==============================] - 3s 135ms/step - loss: 1.4998e-04 - val_loss: 8.1429e-04\n",
            "Epoch 83/100\n",
            "19/19 [==============================] - 2s 129ms/step - loss: 1.3759e-04 - val_loss: 5.0678e-04\n",
            "Epoch 84/100\n",
            "19/19 [==============================] - 3s 176ms/step - loss: 1.4420e-04 - val_loss: 8.6250e-04\n",
            "Epoch 85/100\n",
            "19/19 [==============================] - 3s 134ms/step - loss: 1.4367e-04 - val_loss: 0.0013\n",
            "Epoch 86/100\n",
            "19/19 [==============================] - 2s 123ms/step - loss: 1.3549e-04 - val_loss: 7.0232e-04\n",
            "Epoch 87/100\n",
            "19/19 [==============================] - 2s 126ms/step - loss: 1.3711e-04 - val_loss: 8.5369e-04\n",
            "Epoch 88/100\n",
            "19/19 [==============================] - 2s 124ms/step - loss: 1.2910e-04 - val_loss: 7.0933e-04\n",
            "Epoch 89/100\n",
            "19/19 [==============================] - 3s 168ms/step - loss: 1.3696e-04 - val_loss: 0.0014\n",
            "Epoch 90/100\n",
            "19/19 [==============================] - 2s 123ms/step - loss: 1.6968e-04 - val_loss: 0.0019\n",
            "Epoch 91/100\n",
            "19/19 [==============================] - 2s 119ms/step - loss: 1.4367e-04 - val_loss: 0.0011\n",
            "Epoch 92/100\n",
            "19/19 [==============================] - 2s 123ms/step - loss: 1.3120e-04 - val_loss: 0.0013\n",
            "Epoch 93/100\n",
            "19/19 [==============================] - 2s 107ms/step - loss: 1.3275e-04 - val_loss: 0.0013\n",
            "Epoch 94/100\n",
            "19/19 [==============================] - 3s 169ms/step - loss: 1.3036e-04 - val_loss: 7.5798e-04\n",
            "Epoch 95/100\n",
            "19/19 [==============================] - 2s 124ms/step - loss: 1.2486e-04 - val_loss: 6.5119e-04\n",
            "Epoch 96/100\n",
            "19/19 [==============================] - 2s 111ms/step - loss: 1.3345e-04 - val_loss: 0.0011\n",
            "Epoch 97/100\n",
            "19/19 [==============================] - 2s 114ms/step - loss: 1.4269e-04 - val_loss: 6.3228e-04\n",
            "Epoch 98/100\n",
            "19/19 [==============================] - 2s 109ms/step - loss: 1.3127e-04 - val_loss: 8.8273e-04\n",
            "Epoch 99/100\n",
            "19/19 [==============================] - 2s 112ms/step - loss: 1.4744e-04 - val_loss: 7.6268e-04\n",
            "Epoch 100/100\n",
            "19/19 [==============================] - 3s 182ms/step - loss: 1.2738e-04 - val_loss: 4.9588e-04\n",
            "Stored 'model' (History)\n"
          ]
        }
      ],
      "source": [
        "model = mdl.fit(X_training, Y_training, validation_data=(X_testing, Y_testing), epochs=100, batch_size=64, verbose=1);\n",
        "%store model"
      ]
    },
    {
      "cell_type": "code",
      "execution_count": 19,
      "id": "2f4d14d4",
      "metadata": {
        "colab": {
          "base_uri": "https://localhost:8080/",
          "height": 474
        },
        "id": "2f4d14d4",
        "outputId": "d94d63a2-560a-4b90-b2f9-f532225208e2"
      },
      "outputs": [
        {
          "output_type": "display_data",
          "data": {
            "text/plain": [
              "<Figure size 640x480 with 1 Axes>"
            ],
            "image/png": "[encoded data removed]"
          },
          "metadata": {}
        }
      ],
      "source": [
        "# Ploting Loss of our trained model\n",
        "\n",
        "loss = mdl.history.history['loss']\n",
        "plt.plot(loss)\n",
        "plt.xlabel(\"Iterations\")\n",
        "plt.ylabel(\"Loss\")\n",
        "plt.title(\"Variations of Loss value with No. of Iterations\", color=\"orange\", fontsize=16, fontweight=\"bold\");"
      ]
    },
    {
      "cell_type": "code",
      "execution_count": 20,
      "id": "4d202c06",
      "metadata": {
        "colab": {
          "base_uri": "https://localhost:8080/"
        },
        "id": "4d202c06",
        "outputId": "26178f9d-2501-404e-ed92-461bcde8e905"
      },
      "outputs": [
        {
          "output_type": "stream",
          "name": "stdout",
          "text": [
            "Model: \"sequential\"\n",
            "_________________________________________________________________\n",
            " Layer (type)                Output Shape              Param #   \n",
            "=================================================================\n",
            " lstm (LSTM)                 (None, 50, 50)            10400     \n",
            "                                                                 \n",
            " lstm_1 (LSTM)               (None, 50, 50)            20200     \n",
            "                                                                 \n",
            " lstm_2 (LSTM)               (None, 50)                20200     \n",
            "                                                                 \n",
            " dense (Dense)               (None, 1)                 51        \n",
            "                                                                 \n",
            "=================================================================\n",
            "Total params: 50851 (198.64 KB)\n",
            "Trainable params: 50851 (198.64 KB)\n",
            "Non-trainable params: 0 (0.00 Byte)\n",
            "_________________________________________________________________\n"
          ]
        }
      ],
      "source": [
        "mdl.summary()"
      ]
    },
    {
      "cell_type": "code",
      "execution_count": 21,
      "id": "0903d131",
      "metadata": {
        "colab": {
          "base_uri": "https://localhost:8080/"
        },
        "id": "0903d131",
        "outputId": "e2271f39-9056-4af3-d05f-f6446eb1bd95"
      },
      "outputs": [
        {
          "output_type": "stream",
          "name": "stdout",
          "text": [
            "37/37 [==============================] - 2s 23ms/step\n",
            "24/24 [==============================] - 1s 21ms/step\n"
          ]
        }
      ],
      "source": [
        "#generation of prediction for training and testing datasets\n",
        "\n",
        "train_preds = scaler.inverse_transform(mdl.predict(X_training))\n",
        "\n",
        "test_preds = scaler.inverse_transform(mdl.predict(X_testing))"
      ]
    },
    {
      "cell_type": "code",
      "execution_count": 22,
      "id": "4832a749",
      "metadata": {
        "colab": {
          "base_uri": "https://localhost:8080/"
        },
        "id": "4832a749",
        "outputId": "aab4165a-00aa-44be-ebbe-a9c06d0552db"
      },
      "outputs": [
        {
          "output_type": "execute_result",
          "data": {
            "text/plain": [
              "(1170, 1)"
            ]
          },
          "metadata": {},
          "execution_count": 22
        }
      ],
      "source": [
        "train_preds.shape"
      ]
    },
    {
      "cell_type": "markdown",
      "id": "99505043",
      "metadata": {
        "id": "99505043"
      },
      "source": [
        "#  Visualisations of comparisons and Projections"
      ]
    },
    {
      "cell_type": "code",
      "execution_count": 23,
      "id": "10a8e347",
      "metadata": {
        "colab": {
          "base_uri": "https://localhost:8080/",
          "height": 489
        },
        "id": "10a8e347",
        "outputId": "7ed87af1-1b4b-4745-8442-f4d72c69566e"
      },
      "outputs": [
        {
          "output_type": "execute_result",
          "data": {
            "text/plain": [
              "Text(0, 0.5, 'Closing Price')"
            ]
          },
          "metadata": {},
          "execution_count": 23
        },
        {
          "output_type": "display_data",
          "data": {
            "text/plain": [
              "<Figure size 640x480 with 1 Axes>"
            ],
            "image/png": "[encoded data removed]"
          },
          "metadata": {}
        }
      ],
      "source": [
        "plt.plot(scaler.inverse_transform(df))\n",
        "plt.title(\"Variation of real dataset\")\n",
        "plt.xlabel(\"Index\")\n",
        "plt.ylabel(\"Closing Price\")"
      ]
    },
    {
      "cell_type": "code",
      "execution_count": 24,
      "id": "0d756066",
      "metadata": {
        "id": "0d756066"
      },
      "outputs": [],
      "source": [
        "#shifting trained predictions for plotting\n",
        "#putting actual and predicted in same curve\n",
        "look_back = 50\n",
        "\n",
        "#The empty_like() function is used to create a new array with the same shape and type as a given array.\n",
        "trainPredictPlot = np.empty_like(df)\n",
        "\n",
        "#nan (Empty value are assigned in the all place of trainPredictPlot)\n",
        "trainPredictPlot[:,:] = np.nan\n",
        "\n",
        "\n",
        "#Because predictoin started from 50th point onwards prediction (y) starts from 51th\n",
        "trainPredictPlot[look_back:len(train_preds)+look_back, :] = train_preds\n",
        "\n",
        "\n",
        "#doing same for the testing data\n",
        "testPredictPlot = np.empty_like(df)\n",
        "testPredictPlot[:, :] = np.nan\n",
        "testPredictPlot[len(train_preds)+(look_back*2)+1:len(df)-1, :] = test_preds"
      ]
    },
    {
      "cell_type": "markdown",
      "id": "98526266",
      "metadata": {
        "id": "98526266"
      },
      "source": [
        "## Varation of actual dataset with predicted dataset\n",
        "\n",
        "### Since we have used data of 50th day to predict the output of 51st day. logic of that is written below"
      ]
    },
    {
      "cell_type": "code",
      "execution_count": 25,
      "id": "5b3515ee",
      "metadata": {
        "colab": {
          "base_uri": "https://localhost:8080/",
          "height": 474
        },
        "id": "5b3515ee",
        "outputId": "6e6aaa53-4933-4812-aacc-1f2247bf9506"
      },
      "outputs": [
        {
          "output_type": "display_data",
          "data": {
            "text/plain": [
              "<Figure size 640x480 with 1 Axes>"
            ],
            "image/png": "[encoded data removed]"
          },
          "metadata": {}
        }
      ],
      "source": [
        "\n",
        "\n",
        "\n",
        "\n",
        "plt.plot(scaler.inverse_transform(df))\n",
        "plt.plot(train_preds)\n",
        "plt.title(\"Variation of real dataset from predicted\",fontsize = \"15\")\n",
        "plt.xlabel(\"Index\")\n",
        "plt.ylabel(\"Closing Price\")\n",
        "plt.plot(testPredictPlot)\n",
        "plt.show()"
      ]
    },
    {
      "cell_type": "markdown",
      "id": "1d91d86d",
      "metadata": {
        "id": "1d91d86d"
      },
      "source": [
        "# Forecasting future data"
      ]
    },
    {
      "cell_type": "code",
      "execution_count": 26,
      "id": "362bd7a1",
      "metadata": {
        "colab": {
          "base_uri": "https://localhost:8080/"
        },
        "id": "362bd7a1",
        "outputId": "136b35af-ec33-4164-e442-599311d248ff"
      },
      "outputs": [
        {
          "output_type": "execute_result",
          "data": {
            "text/plain": [
              "(1170, 763)"
            ]
          },
          "metadata": {},
          "execution_count": 26
        }
      ],
      "source": [
        "len(X_training) , len(X_testing)"
      ]
    },
    {
      "cell_type": "markdown",
      "id": "c6868a28",
      "metadata": {
        "id": "c6868a28"
      },
      "source": []
    },
    {
      "cell_type": "code",
      "execution_count": 28,
      "id": "c4bd009d",
      "metadata": {
        "colab": {
          "base_uri": "https://localhost:8080/"
        },
        "id": "c4bd009d",
        "outputId": "0ed5de3a-b266-48a6-a258-455d4e4ffc39"
      },
      "outputs": [
        {
          "output_type": "execute_result",
          "data": {
            "text/plain": [
              "(50, 1)"
            ]
          },
          "metadata": {},
          "execution_count": 28
        }
      ],
      "source": [
        "preds_input = testing_data[764:]\n",
        "preds_input.shape"
      ]
    },
    {
      "cell_type": "code",
      "execution_count": 29,
      "id": "0780096a",
      "metadata": {
        "id": "0780096a"
      },
      "outputs": [],
      "source": [
        "preds_input = preds_input.reshape(1, -1)"
      ]
    },
    {
      "cell_type": "code",
      "execution_count": 30,
      "id": "5b20692b",
      "metadata": {
        "colab": {
          "base_uri": "https://localhost:8080/"
        },
        "id": "5b20692b",
        "outputId": "15be98c8-f5a1-40cd-f084-bae9444f0016"
      },
      "outputs": [
        {
          "output_type": "execute_result",
          "data": {
            "text/plain": [
              "1"
            ]
          },
          "metadata": {},
          "execution_count": 30
        }
      ],
      "source": [
        "temp_input = list(preds_input)\n",
        "len(temp_input)"
      ]
    },
    {
      "cell_type": "code",
      "execution_count": 31,
      "id": "e8ba1b87",
      "metadata": {
        "id": "e8ba1b87"
      },
      "outputs": [],
      "source": [
        "temp_input = temp_input[0].tolist()"
      ]
    },
    {
      "cell_type": "code",
      "execution_count": 32,
      "id": "2375385e",
      "metadata": {
        "colab": {
          "base_uri": "https://localhost:8080/"
        },
        "id": "2375385e",
        "outputId": "f7c1daba-a163-4e88-cb3d-9fb1d6192ed0"
      },
      "outputs": [
        {
          "output_type": "execute_result",
          "data": {
            "text/plain": [
              "50"
            ]
          },
          "metadata": {},
          "execution_count": 32
        }
      ],
      "source": [
        "len(temp_input)"
      ]
    },
    {
      "cell_type": "code",
      "execution_count": 33,
      "id": "0dac5e82",
      "metadata": {
        "id": "0dac5e82"
      },
      "outputs": [],
      "source": [
        "\n",
        "Thirty_days_output=[]\n",
        "i=0\n",
        "\n",
        "while(i<30):\n",
        "    if(len(temp_input)>50):\n",
        "        temp_input = temp_input[1:]\n",
        "        preds_input=np.array(temp_input)\n",
        "        preds_input=preds_input.reshape(1,-1)\n",
        "\n",
        "\n",
        "\n",
        "    preds_input = preds_input.reshape(1, n_dataset_length,1)\n",
        "    day_output = mdl.predict(preds_input, verbose=0)\n",
        "    temp_input.extend(day_output[0].tolist()) # Put in inpu i,e original\n",
        "    Thirty_days_output.extend(day_output.tolist()) #Put in 30 days array\n",
        "\n",
        "    #print(f\"Day-{i+1} input:\\n\\n{preds_input}\\n\\n\")\n",
        "    #print(f\"Day-{i+1} output:\\n\\n{day_output}\\n\\n\")\n",
        "    i=i+1"
      ]
    },
    {
      "cell_type": "code",
      "execution_count": 34,
      "id": "9b5f79cb",
      "metadata": {
        "colab": {
          "base_uri": "https://localhost:8080/"
        },
        "id": "9b5f79cb",
        "outputId": "3200403f-6564-43dd-cf28-60a46d8f3b1e"
      },
      "outputs": [
        {
          "output_type": "execute_result",
          "data": {
            "text/plain": [
              "[[0.6233207583427429],\n",
              " [0.6185441017150879],\n",
              " [0.6115036010742188],\n",
              " [0.6052085757255554],\n",
              " [0.6001526713371277],\n",
              " [0.5960401892662048],\n",
              " [0.5926157832145691],\n",
              " [0.5898091793060303],\n",
              " [0.5876367688179016],\n",
              " [0.5861055254936218],\n",
              " [0.5851753950119019],\n",
              " [0.5847632884979248],\n",
              " [0.5847632884979248],\n",
              " [0.5850617289543152],\n",
              " [0.5855485796928406],\n",
              " [0.586122989654541],\n",
              " [0.5867000818252563],\n",
              " [0.5872116088867188],\n",
              " [0.5876067280769348],\n",
              " [0.5878527164459229],\n",
              " [0.5879331231117249],\n",
              " [0.5878459215164185],\n",
              " [0.5876004695892334],\n",
              " [0.5872167944908142],\n",
              " [0.5867199301719666],\n",
              " [0.5861408114433289],\n",
              " [0.5855106711387634],\n",
              " [0.5848599672317505],\n",
              " [0.5842143297195435],\n",
              " [0.5835964679718018]]"
            ]
          },
          "metadata": {},
          "execution_count": 34
        }
      ],
      "source": [
        "Thirty_days_output"
      ]
    },
    {
      "cell_type": "code",
      "execution_count": 35,
      "id": "73390321",
      "metadata": {
        "colab": {
          "base_uri": "https://localhost:8080/",
          "height": 430
        },
        "id": "73390321",
        "outputId": "5558cdab-f32d-4c8b-eee0-014ae61999df"
      },
      "outputs": [
        {
          "output_type": "display_data",
          "data": {
            "text/plain": [
              "<Figure size 640x480 with 1 Axes>"
            ],
            "image/png": "[encoded data removed]"
          },
          "metadata": {}
        }
      ],
      "source": [
        "\n",
        "new_50_days = np.arange(1,51)\n",
        "predicted_30_days = np.arange(51,81)\n",
        "\n",
        "new_50_days_output = df[1985:]\n",
        "plt.plot(new_50_days, scaler.inverse_transform(new_50_days_output))\n",
        "plt.plot(predicted_30_days, scaler.inverse_transform(Thirty_days_output));"
      ]
    },
    {
      "cell_type": "code",
      "execution_count": 36,
      "id": "3bc7ece0",
      "metadata": {
        "id": "3bc7ece0"
      },
      "outputs": [],
      "source": [
        "new_50_days_output_list = new_50_days_output.tolist()\n",
        "new_50_days_output_list.extend(Thirty_days_output)"
      ]
    },
    {
      "cell_type": "code",
      "execution_count": 38,
      "id": "21cd2b9a",
      "metadata": {
        "id": "21cd2b9a"
      },
      "outputs": [],
      "source": []
    },
    {
      "cell_type": "markdown",
      "id": "b620fdc0",
      "metadata": {
        "id": "b620fdc0"
      },
      "source": [
        "# That's it !!\n"
      ]
    },
    {
      "cell_type": "code",
      "execution_count": null,
      "id": "ef439a18",
      "metadata": {
        "id": "ef439a18"
      },
      "outputs": [],
      "source": []
    }
  ],
  "metadata": {
    "kernelspec": {
      "display_name": "Python 3",
      "language": "python",
      "name": "python3"
    },
    "language_info": {
      "codemirror_mode": {
        "name": "ipython",
        "version": 3
      },
      "file_extension": ".py",
      "mimetype": "text/x-python",
      "name": "python",
      "nbconvert_exporter": "python",
      "pygments_lexer": "ipython3",
      "version": "3.8.8"
    },
    "colab": {
      "provenance": []
    }
  },
  "nbformat": 4,
  "nbformat_minor": 5
}