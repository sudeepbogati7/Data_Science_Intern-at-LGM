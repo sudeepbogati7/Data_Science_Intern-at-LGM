{
 "cells": [
  {
   "cell_type": "markdown",
   "metadata": {
    "id": "vtwnwRyHRqg2"
   },
   "source": [
    "## **Image to Pencil Sketch** Using python \n",
    "\n",
    "@LetsGrowMore"
   ]
  },
  {
   "cell_type": "code",
   "execution_count": 1,
   "metadata": {
    "id": "s8wloB2fRhfa"
   },
   "outputs": [],
   "source": [
    "import cv2\n",
    "from IPython.display import Image, display"
   ]
  },
  {
   "cell_type": "code",
   "execution_count": null,
   "metadata": {
    "colab": {
     "base_uri": "https://localhost:8080/",
     "height": 453
    },
    "id": "u-m4x-TrRbeX",
    "outputId": "fd521ea0-b25f-405a-e737-faaa68643d04"
   },
   "outputs": [],
   "source": [
    "image = cv2.imread('shelby.jpg')\n",
    "cv2.imshow(\"Thomas\", image)\n",
    "cv2.waitKey(0)"
   ]
  },
  {
   "cell_type": "code",
   "execution_count": null,
   "metadata": {
    "id": "WekuMtd6SUTk"
   },
   "outputs": [],
   "source": [
    "gray_image = cv2.cvtColor(image, cv2.COLOR_BGR2GRAY)\n",
    "cv2.imshow(\"New Dog\", gray_image)\n",
    "cv2.waitKey(0)"
   ]
  },
  {
   "cell_type": "code",
   "execution_count": null,
   "metadata": {},
   "outputs": [],
   "source": []
  }
 ],
 "metadata": {
  "colab": {
   "provenance": []
  },
  "kernelspec": {
   "display_name": "Python 3 (ipykernel)",
   "language": "python",
   "name": "python3"
  },
  "language_info": {
   "codemirror_mode": {
    "name": "ipython",
    "version": 3
   },
   "file_extension": ".py",
   "mimetype": "text/x-python",
   "name": "python",
   "nbconvert_exporter": "python",
   "pygments_lexer": "ipython3",
   "version": "3.10.12"
  }
 },
 "nbformat": 4,
 "nbformat_minor": 1
}
